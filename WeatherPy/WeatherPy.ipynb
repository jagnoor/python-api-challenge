{
 "cells": [
  {
   "cell_type": "markdown",
   "metadata": {},
   "source": [
    "#### Key Summary  \n",
    "\n",
    "1. Temperatures appear to reach the highest near 20 degrees latitude.\n",
    "2. Temperatures are higher at latitudes closer to the equator. Temperatures are lower towards the earth's poles.\n",
    "3. The datasets for cloudiness and wind speed don't seem to have any correlation to latitude, or proximity to the equator."
   ]
  },
  {
   "cell_type": "code",
   "execution_count": null,
   "metadata": {},
   "outputs": [],
   "source": [
    "# Dependencies\n",
    "import matplotlib.pyplot as plt\n",
    "import requests\n",
    "from scipy import stats\n",
    "import pandas as pd\n",
    "from config import api_key\n",
    "import numpy as np\n",
    "from ratelimiter import RateLimiter\n",
    "from citipy import citipy\n",
    "\n",
    "output_data_file = \"output_data/cities.csv\" #Output csv file \n",
    "\n",
    "# Range of latitudes and longitudes\n",
    "lat_range = (-70, 70) #using -70/80 as there are less cities near the poles\n",
    "lng_range = (-180, 180)\n"
   ]
  },
  {
   "cell_type": "code",
   "execution_count": null,
   "metadata": {},
   "outputs": [],
   "source": [
    "# List for holding lat_lngs and cities\n",
    "lat_lngs = []\n",
    "cities = []\n",
    "\n",
    "# Create a set of random lat and lng combinations\n",
    "lats = np.random.uniform(lat_range[0], lat_range[1], size=1000)\n",
    "lngs = np.random.uniform(lng_range[0], lng_range[1], size=1000)\n",
    "lat_lngs = zip(lats, lngs)\n",
    "\n",
    "# Identify nearest city for each lat, lng combination\n",
    "for lat_lng in lat_lngs:\n",
    "    city = citipy.nearest_city(lat_lng[0], lat_lng[1]).city_name\n",
    "    \n",
    "    # If the city is unique, then add it to a our cities list\n",
    "    if city not in cities:\n",
    "        cities.append(city)\n",
    "\n",
    "# Print the city count to confirm sufficient count\n",
    "len(cities)"
   ]
  },
  {
   "cell_type": "code",
   "execution_count": null,
   "metadata": {},
   "outputs": [],
   "source": []
  },
  {
   "cell_type": "code",
   "execution_count": null,
   "metadata": {},
   "outputs": [],
   "source": [
    "#Perform API Calls------------------------------------------- \n",
    "\n",
    "#Lists and counters\n",
    "city_list = []\n",
    "cloud_list = []\n",
    "country_list = []\n",
    "date_list = []\n",
    "humidity_list = []\n",
    "lats_list = []\n",
    "lngs_list = []\n",
    "temp_max_list = []\n",
    "wind_speed_list = []\n",
    "index_counter = 0\n",
    "set_counter = 1  \n",
    "rate_limiter = RateLimiter(max_calls=5, period=60)\n",
    "\n",
    "\n",
    "#Perform API Calls-------------------------------------------  \n",
    "\n",
    "\n",
    "base_url = \"http://api.openweathermap.org/data/2.5/weather?\"\n",
    "units = \"imperial\"\n",
    "query_url = f\"{base_url}appid={api_key}&units={units}&q=\"\n",
    "\n",
    "\n",
    "#For loop matching city names with city_list using enumerate method\n",
    "\n",
    "for index, city in enumerate(cities, start = 1):\n",
    "    with rate_limiter:\n",
    "        try:\n",
    "            response = requests.get(query_url + city).json()\n",
    "            city_list.append(response[\"name\"])\n",
    "            cloud_list.append(response[\"clouds\"][\"all\"])\n",
    "            country_list.append(response[\"sys\"][\"country\"])\n",
    "            date_list.append(response[\"dt\"])\n",
    "            humidity_list.append(response[\"main\"][\"humidity\"])\n",
    "            lats_list.append(response[\"coord\"][\"lat\"])\n",
    "            lngs_list.append(response[\"coord\"][\"lon\"])\n",
    "            temp_max_list.append(response['main']['temp_max'])\n",
    "            wind_speed_list.append(response[\"wind\"][\"speed\"])\n",
    "\n",
    "            if index_counter > 49:\n",
    "                index_counter = 0\n",
    "                set_counter = set_counter + 1\n",
    "\n",
    "            else:\n",
    "                index_counter = index_counter + 1\n",
    "\n",
    "            print(f\"Processing Record {index_counter} of Set {set_counter} : {city}\")\n",
    "\n",
    "        except(KeyError, IndexError):\n",
    "            print(\"City not found. Skipping...\")\n",
    "            \n",
    "            "
   ]
  },
  {
   "cell_type": "code",
   "execution_count": null,
   "metadata": {},
   "outputs": [],
   "source": [
    "#Create a dataframe using information from data retrieval\n",
    "weather_data = pd.DataFrame({\n",
    "    \"City\" : city_list,\n",
    "    \"Lat\" : lats_list,\n",
    "    \"Lng\" : lngs_list,\n",
    "    \"Max Temp\" : temp_max_list,\n",
    "    \"Humidity\" : humidity_list,\n",
    "    \"Clouds\" : cloud_list,\n",
    "    \"Wind Speed\" : wind_speed_list,\n",
    "    \"Country\" : country_list,\n",
    "    \"Date\" : date_list    \n",
    "})\n",
    "\n",
    "#Count weather data\n",
    "weather_data.count()"
   ]
  },
  {
   "cell_type": "code",
   "execution_count": null,
   "metadata": {},
   "outputs": [],
   "source": [
    "weather_data.head()"
   ]
  },
  {
   "cell_type": "code",
   "execution_count": null,
   "metadata": {},
   "outputs": [],
   "source": [
    "#Save weather data to a cities csv file\n",
    "weather_data.to_csv(\"output_data/cities.csv\", index=False)"
   ]
  },
  {
   "cell_type": "markdown",
   "metadata": {},
   "source": [
    "The first requirement is to create a series of scatter plots to showcase the following relationships:\n",
    "\n",
    "Temperature (F) vs. Latitude\n",
    "Humidity (%) vs. Latitude\n",
    "Cloudiness (%) vs. Latitude\n",
    "Wind Speed (mph) vs. Latitude"
   ]
  },
  {
   "cell_type": "code",
   "execution_count": null,
   "metadata": {},
   "outputs": [],
   "source": [
    "#Temperature (F) vs. Latitude scatter plot\n",
    "plt.scatter(weather_data[\"Lat\"], weather_data[\"Max Temp\"], color = \"steelblue\", edgecolor = \"black\")\n",
    "\n",
    "plt.title(\"Temperature (F) vs. Latitude\")\n",
    "plt.xlabel(\"Latitude\")\n",
    "plt.ylabel(\"Max Temperature (F)\")\n",
    "plt.grid(True)\n",
    "plt.savefig(\"../Images/City Latitude vs Max Temperature.png\")"
   ]
  },
  {
   "cell_type": "code",
   "execution_count": null,
   "metadata": {},
   "outputs": [],
   "source": [
    "#Wind Speed (mph) vs. Latitude scatter plot\n",
    "plt.scatter(weather_data[\"Lat\"], weather_data[\"Wind Speed\"], color = \"steelblue\", edgecolor = \"black\")\n",
    "\n",
    "plt.title(\"Wind Speed (mph) vs. Latitude\")\n",
    "plt.xlabel(\"Latitude\")\n",
    "plt.ylabel(\"Wind Speed (%))\")\n",
    "plt.grid(True)\n",
    "plt.savefig(\"../Images/City Latitude vs Wind Speed.png\")"
   ]
  },
  {
   "cell_type": "code",
   "execution_count": null,
   "metadata": {},
   "outputs": [],
   "source": [
    "#Cloudiness (%) vs. Latitude scatter plot\n",
    "plt.scatter(weather_data[\"Lat\"], weather_data[\"Clouds\"], color = \"steelblue\", edgecolor = \"black\")\n",
    "\n",
    "plt.title(\"Cloudiness (%) vs. Latitude\")\n",
    "plt.xlabel(\"Latitude\")\n",
    "plt.ylabel(\"Cloudiness (%))\")\n",
    "plt.grid(True)\n",
    "plt.savefig(\"../Images/City Latitude vs Cloudiness.png\")"
   ]
  },
  {
   "cell_type": "code",
   "execution_count": null,
   "metadata": {},
   "outputs": [],
   "source": [
    "#Humidity (%) vs. Latitude scatter plot\n",
    "plt.scatter(weather_data[\"Lat\"], weather_data[\"Humidity\"], color = \"steelblue\", edgecolor = \"black\")\n",
    "\n",
    "plt.title(\"Humidity (%) vs. Latitude\")\n",
    "plt.xlabel(\"Latitude\")\n",
    "plt.ylabel(\"Humidity (%))\")\n",
    "plt.grid(True)\n",
    "plt.savefig(\"../Images/City Latitude vs Humidity.png\")"
   ]
  },
  {
   "cell_type": "markdown",
   "metadata": {},
   "source": [
    "The second requirement is to run linear regression on each relationship. This time, separate the plots into Northern Hemisphere (greater than or equal to 0 degrees latitude) and Southern Hemisphere (less than 0 degrees latitude):\n",
    "\n",
    "Northern Hemisphere - Temperature (F) vs. Latitude\n",
    "Southern Hemisphere - Temperature (F) vs. Latitude\n",
    "Northern Hemisphere - Humidity (%) vs. Latitude\n",
    "Southern Hemisphere - Humidity (%) vs. Latitude\n",
    "Northern Hemisphere - Cloudiness (%) vs. Latitude\n",
    "Southern Hemisphere - Cloudiness (%) vs. Latitude\n",
    "Northern Hemisphere - Wind Speed (mph) vs. Latitude\n",
    "Southern Hemisphere - Wind Speed (mph) vs. Latitude"
   ]
  },
  {
   "cell_type": "code",
   "execution_count": null,
   "metadata": {},
   "outputs": [],
   "source": []
  },
  {
   "cell_type": "code",
   "execution_count": null,
   "metadata": {},
   "outputs": [],
   "source": []
  },
  {
   "cell_type": "code",
   "execution_count": null,
   "metadata": {},
   "outputs": [],
   "source": []
  },
  {
   "cell_type": "code",
   "execution_count": null,
   "metadata": {},
   "outputs": [],
   "source": []
  },
  {
   "cell_type": "code",
   "execution_count": null,
   "metadata": {},
   "outputs": [],
   "source": []
  },
  {
   "cell_type": "code",
   "execution_count": null,
   "metadata": {},
   "outputs": [],
   "source": []
  },
  {
   "cell_type": "code",
   "execution_count": null,
   "metadata": {},
   "outputs": [],
   "source": []
  },
  {
   "cell_type": "code",
   "execution_count": null,
   "metadata": {},
   "outputs": [],
   "source": []
  },
  {
   "cell_type": "code",
   "execution_count": null,
   "metadata": {},
   "outputs": [],
   "source": []
  },
  {
   "cell_type": "code",
   "execution_count": null,
   "metadata": {},
   "outputs": [],
   "source": []
  },
  {
   "cell_type": "code",
   "execution_count": null,
   "metadata": {},
   "outputs": [],
   "source": []
  }
 ],
 "metadata": {
  "kernelspec": {
   "display_name": "Python 3",
   "language": "python",
   "name": "python3"
  },
  "language_info": {
   "codemirror_mode": {
    "name": "ipython",
    "version": 3
   },
   "file_extension": ".py",
   "mimetype": "text/x-python",
   "name": "python",
   "nbconvert_exporter": "python",
   "pygments_lexer": "ipython3",
   "version": "3.6.10"
  }
 },
 "nbformat": 4,
 "nbformat_minor": 2
}
