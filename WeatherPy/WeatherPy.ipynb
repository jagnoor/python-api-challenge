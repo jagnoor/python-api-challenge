{
 "cells": [
  {
   "cell_type": "markdown",
   "metadata": {},
   "source": [
    "#### Key Summary  \n",
    "\n",
    "1. Temperatures appear to reach the highest near 20 degrees latitude.\n",
    "2. Temperatures are higher at latitudes closer to the equator. Temperatures are lower towards the earth's poles.\n",
    "3. The datasets for cloudiness and wind speed don't seem to have any correlation to latitude, or proximity to the equator."
   ]
  },
  {
   "cell_type": "code",
   "execution_count": 1,
   "metadata": {},
   "outputs": [],
   "source": [
    "# Dependencies\n",
    "import matplotlib.pyplot as plt\n",
    "import requests\n",
    "from scipy import stats\n",
    "import pandas as pd\n",
    "from config import api_key\n",
    "import numpy as np\n",
    "from ratelimiter import RateLimiter\n",
    "from citipy import citipy"
   ]
  },
  {
   "cell_type": "code",
   "execution_count": null,
   "metadata": {},
   "outputs": [],
   "source": []
  },
  {
   "cell_type": "code",
   "execution_count": 2,
   "metadata": {},
   "outputs": [
    {
     "data": {
      "text/html": [
       "<div>\n",
       "<style scoped>\n",
       "    .dataframe tbody tr th:only-of-type {\n",
       "        vertical-align: middle;\n",
       "    }\n",
       "\n",
       "    .dataframe tbody tr th {\n",
       "        vertical-align: top;\n",
       "    }\n",
       "\n",
       "    .dataframe thead th {\n",
       "        text-align: right;\n",
       "    }\n",
       "</style>\n",
       "<table border=\"1\" class=\"dataframe\">\n",
       "  <thead>\n",
       "    <tr style=\"text-align: right;\">\n",
       "      <th></th>\n",
       "      <th>lat</th>\n",
       "      <th>lon</th>\n",
       "    </tr>\n",
       "  </thead>\n",
       "  <tbody>\n",
       "    <tr>\n",
       "      <th>0</th>\n",
       "      <td>77.110338</td>\n",
       "      <td>5.642539</td>\n",
       "    </tr>\n",
       "    <tr>\n",
       "      <th>1</th>\n",
       "      <td>74.517598</td>\n",
       "      <td>65.842848</td>\n",
       "    </tr>\n",
       "    <tr>\n",
       "      <th>2</th>\n",
       "      <td>-13.055427</td>\n",
       "      <td>113.749109</td>\n",
       "    </tr>\n",
       "    <tr>\n",
       "      <th>3</th>\n",
       "      <td>-86.624059</td>\n",
       "      <td>15.691447</td>\n",
       "    </tr>\n",
       "    <tr>\n",
       "      <th>4</th>\n",
       "      <td>-7.944832</td>\n",
       "      <td>-37.582307</td>\n",
       "    </tr>\n",
       "  </tbody>\n",
       "</table>\n",
       "</div>"
      ],
      "text/plain": [
       "         lat         lon\n",
       "0  77.110338    5.642539\n",
       "1  74.517598   65.842848\n",
       "2 -13.055427  113.749109\n",
       "3 -86.624059   15.691447\n",
       "4  -7.944832  -37.582307"
      ]
     },
     "execution_count": 2,
     "metadata": {},
     "output_type": "execute_result"
    }
   ],
   "source": [
    "#Generate random lat/lon coordinates\n",
    "counter = 0\n",
    "rndlat=[]\n",
    "rndlon=[]\n",
    "\n",
    "while len(rndlat) < 750:\n",
    "    lat = np.random.uniform(-90, 90)\n",
    "    lon = np.random.uniform(-180,180)\n",
    "    rndlat.append(lat)\n",
    "    rndlon.append(lon)\n",
    "    counter += 1\n",
    " \n",
    "\n",
    "geo_df = pd.DataFrame ({\"lat\": rndlat, \"lon\":rndlon})\n",
    "geo_df.head()"
   ]
  },
  {
   "cell_type": "code",
   "execution_count": 3,
   "metadata": {},
   "outputs": [
    {
     "data": {
      "text/html": [
       "<div>\n",
       "<style scoped>\n",
       "    .dataframe tbody tr th:only-of-type {\n",
       "        vertical-align: middle;\n",
       "    }\n",
       "\n",
       "    .dataframe tbody tr th {\n",
       "        vertical-align: top;\n",
       "    }\n",
       "\n",
       "    .dataframe thead th {\n",
       "        text-align: right;\n",
       "    }\n",
       "</style>\n",
       "<table border=\"1\" class=\"dataframe\">\n",
       "  <thead>\n",
       "    <tr style=\"text-align: right;\">\n",
       "      <th></th>\n",
       "      <th>city</th>\n",
       "      <th>country</th>\n",
       "    </tr>\n",
       "  </thead>\n",
       "  <tbody>\n",
       "    <tr>\n",
       "      <th>0</th>\n",
       "      <td>barentsburg</td>\n",
       "      <td>sj</td>\n",
       "    </tr>\n",
       "    <tr>\n",
       "      <th>1</th>\n",
       "      <td>amderma</td>\n",
       "      <td>ru</td>\n",
       "    </tr>\n",
       "    <tr>\n",
       "      <th>2</th>\n",
       "      <td>denpasar</td>\n",
       "      <td>id</td>\n",
       "    </tr>\n",
       "    <tr>\n",
       "      <th>3</th>\n",
       "      <td>bredasdorp</td>\n",
       "      <td>za</td>\n",
       "    </tr>\n",
       "    <tr>\n",
       "      <th>4</th>\n",
       "      <td>custodia</td>\n",
       "      <td>br</td>\n",
       "    </tr>\n",
       "  </tbody>\n",
       "</table>\n",
       "</div>"
      ],
      "text/plain": [
       "          city country\n",
       "0  barentsburg      sj\n",
       "1      amderma      ru\n",
       "2     denpasar      id\n",
       "3   bredasdorp      za\n",
       "4     custodia      br"
      ]
     },
     "execution_count": 3,
     "metadata": {},
     "output_type": "execute_result"
    }
   ],
   "source": [
    "#feed data to citipy\n",
    "city = []\n",
    "country = []\n",
    "\n",
    "\n",
    "for index, row in geo_df.iterrows():\n",
    "    city_lat=(row[\"lat\"])\n",
    "    city_lon=(row[\"lon\"])\n",
    "    city_name = citipy.nearest_city(city_lat, city_lon).city_name\n",
    "    country_code = citipy.nearest_city(city_lat, city_lon).country_code\n",
    "    city.append(city_name)\n",
    "    country.append(country_code)\n",
    "    \n",
    "city_df= pd.DataFrame ({\"city\": city, \"country\": country})\n",
    "city_df.drop_duplicates([\"city\", \"country\"])\n",
    "city_df.head()"
   ]
  },
  {
   "cell_type": "code",
   "execution_count": null,
   "metadata": {},
   "outputs": [
    {
     "name": "stdout",
     "output_type": "stream",
     "text": [
      "Weather for barentsburg not found.\n",
      "----------------------------------------------------------------\n",
      "Weather for amderma not found.\n",
      "----------------------------------------------------------------\n",
      "Processing record #1 -- denpasar\n",
      "http://api.openweathermap.org/data/2.5/weather?appid=***masked***&units=imperial&q=denpasar\n",
      "----------------------------------------------------------------\n",
      "Processing record #1 -- bredasdorp\n",
      "http://api.openweathermap.org/data/2.5/weather?appid=***masked***&units=imperial&q=bredasdorp\n",
      "----------------------------------------------------------------\n",
      "Processing record #1 -- custodia\n",
      "http://api.openweathermap.org/data/2.5/weather?appid=***masked***&units=imperial&q=custodia\n",
      "----------------------------------------------------------------\n",
      "Processing record #1 -- hobart\n",
      "http://api.openweathermap.org/data/2.5/weather?appid=***masked***&units=imperial&q=hobart\n",
      "----------------------------------------------------------------\n",
      "Processing record #1 -- constitucion\n",
      "http://api.openweathermap.org/data/2.5/weather?appid=***masked***&units=imperial&q=constitucion\n",
      "----------------------------------------------------------------\n",
      "Processing record #1 -- mahon\n",
      "http://api.openweathermap.org/data/2.5/weather?appid=***masked***&units=imperial&q=mahon\n",
      "----------------------------------------------------------------\n",
      "Processing record #1 -- albany\n",
      "http://api.openweathermap.org/data/2.5/weather?appid=***masked***&units=imperial&q=albany\n",
      "----------------------------------------------------------------\n",
      "Processing record #1 -- ondjiva\n",
      "http://api.openweathermap.org/data/2.5/weather?appid=***masked***&units=imperial&q=ondjiva\n",
      "----------------------------------------------------------------\n",
      "Processing record #1 -- east london\n",
      "http://api.openweathermap.org/data/2.5/weather?appid=***masked***&units=imperial&q=east london\n",
      "----------------------------------------------------------------\n",
      "Processing record #1 -- winslow\n",
      "http://api.openweathermap.org/data/2.5/weather?appid=***masked***&units=imperial&q=winslow\n",
      "----------------------------------------------------------------\n",
      "Processing record #1 -- puerto rondon\n",
      "http://api.openweathermap.org/data/2.5/weather?appid=***masked***&units=imperial&q=puerto rondon\n",
      "----------------------------------------------------------------\n",
      "Processing record #1 -- west bend\n",
      "http://api.openweathermap.org/data/2.5/weather?appid=***masked***&units=imperial&q=west bend\n",
      "----------------------------------------------------------------\n",
      "Processing record #1 -- northam\n",
      "http://api.openweathermap.org/data/2.5/weather?appid=***masked***&units=imperial&q=northam\n",
      "----------------------------------------------------------------\n"
     ]
    }
   ],
   "source": [
    "#make API calls and collect data\n",
    "base_url=\"http://api.openweathermap.org/data/2.5/weather?\"\n",
    "units = \"imperial\"\n",
    "query_url = f\"{base_url}appid={api_key}&units={units}&q=\"\n",
    "rate_limiter = RateLimiter(max_calls=5, period=60)\n",
    "weather_data=[]\n",
    "\n",
    "for index, row in city_df.iterrows():\n",
    "    with rate_limiter:\n",
    "        city_q=row[\"city\"]\n",
    "        response = requests.get(query_url + city_q).json()\n",
    "        record_counter=1\n",
    "        try:\n",
    "            temp=response[\"main\"][\"temp\"]\n",
    "            humid=response[\"main\"][\"humidity\"]\n",
    "            cloud=response[\"clouds\"][\"all\"]\n",
    "            wind=response[\"wind\"][\"speed\"]\n",
    "            city_lat=response[\"coord\"][\"lat\"]\n",
    "            city_name=response[\"name\"]\n",
    "            city_country=response[\"sys\"][\"country\"]\n",
    "            weather_data.append({\"City\": city_name, \"Country\": city_country, \"Latitude\": city_lat,\n",
    "                                    \"Temperature (F)\": temp, \"Humidity (%)\": humid, \"Cloudiness (%)\":cloud, \"Wind Speed (MPH)\": wind})\n",
    "            print (f\"Processing record #{record_counter} -- {city_q}\")\n",
    "            print (f'{base_url}appid=***masked***&units={units}&q={city_q}')\n",
    "            print (\"----------------------------------------------------------------\")\n",
    "            record_counter +=1\n",
    "        except:\n",
    "            print (f\"Weather for {city_q} not found.\")\n",
    "            print (\"----------------------------------------------------------------\")\n",
    "            continue"
   ]
  },
  {
   "cell_type": "code",
   "execution_count": null,
   "metadata": {},
   "outputs": [],
   "source": [
    "weather_df.to_csv(\"weather_data.csv\")"
   ]
  },
  {
   "cell_type": "code",
   "execution_count": null,
   "metadata": {},
   "outputs": [],
   "source": [
    "date = datetime.now()\n",
    "date = date.strftime(\"%m-%d-%Y\")\n",
    "\n",
    "plt.scatter(weather_df[\"Latitude\"], weather_df[\"Temperature (F)\"], alpha=.75, edgecolors=\"k\")\n",
    "plt.title(f\"City Latitude vs. Temperature ({date})\")\n",
    "plt.xlabel(\"Latitude ($^\\circ$)\")\n",
    "plt.ylabel(\"Temperature ($^\\circ$F)\")\n",
    "plt.grid(True) \n",
    "plt.tight_layout()\n",
    "plt.savefig(\"temp.png\")\n",
    "plt.show()"
   ]
  },
  {
   "cell_type": "code",
   "execution_count": null,
   "metadata": {},
   "outputs": [],
   "source": [
    "plt.scatter(weather_df[\"Latitude\"], weather_df[\"Humidity (%)\"], alpha=.75, edgecolors=\"k\")\n",
    "plt.title(f\"City Latitude vs. Humidity ({date})\")\n",
    "plt.xlabel(\"Latitude ($^\\circ$)\")\n",
    "plt.ylabel(\"Humidity (%)\")\n",
    "plt.grid(True) \n",
    "plt.tight_layout()\n",
    "plt.savefig(\"humidity.png\")\n",
    "plt.show()"
   ]
  },
  {
   "cell_type": "code",
   "execution_count": null,
   "metadata": {},
   "outputs": [],
   "source": [
    "plt.scatter(weather_df[\"Latitude\"], weather_df[\"Cloudiness (%)\"], alpha=.75, edgecolors=\"k\")\n",
    "plt.title(f\"City Latitude vs. Cloudiness ({date})\")\n",
    "plt.xlabel(\"Latitude ($^\\circ$)\")\n",
    "plt.ylabel(\"Cloudiness (%)\")\n",
    "plt.grid(True) \n",
    "plt.tight_layout()\n",
    "plt.savefig(\"clouds.png\")\n",
    "plt.show()"
   ]
  },
  {
   "cell_type": "code",
   "execution_count": null,
   "metadata": {},
   "outputs": [],
   "source": [
    "\n",
    "plt.scatter(weather_df[\"Latitude\"], weather_df[\"Wind Speed (MPH)\"], alpha=.75, edgecolors=\"k\")\n",
    "plt.title(f\"City Latitude vs. Wind Speed ({date})\")\n",
    "plt.xlabel(\"Latitude ($^\\circ$)\")\n",
    "plt.ylabel(\"Wind Speed (MPH)\")\n",
    "plt.grid(True) \n",
    "plt.tight_layout()\n",
    "plt.savefig(\"wind.png\")\n",
    "plt.show()"
   ]
  },
  {
   "cell_type": "code",
   "execution_count": null,
   "metadata": {},
   "outputs": [],
   "source": []
  },
  {
   "cell_type": "code",
   "execution_count": null,
   "metadata": {},
   "outputs": [],
   "source": []
  },
  {
   "cell_type": "code",
   "execution_count": null,
   "metadata": {},
   "outputs": [],
   "source": []
  },
  {
   "cell_type": "code",
   "execution_count": null,
   "metadata": {},
   "outputs": [],
   "source": []
  },
  {
   "cell_type": "code",
   "execution_count": null,
   "metadata": {},
   "outputs": [],
   "source": []
  },
  {
   "cell_type": "code",
   "execution_count": null,
   "metadata": {},
   "outputs": [],
   "source": []
  },
  {
   "cell_type": "code",
   "execution_count": null,
   "metadata": {},
   "outputs": [],
   "source": [
    "import gmaps\n",
    "import pandas as pd\n",
    "\n",
    "# Google developer API key\n",
    "from config import gkey\n",
    "\n",
    "# Configure gmaps\n",
    "gmaps.configure(api_key=gkey)"
   ]
  },
  {
   "cell_type": "code",
   "execution_count": null,
   "metadata": {},
   "outputs": [],
   "source": [
    "# Create aiport dataframe\n",
    "airport_df = pd.read_csv('Resources/Airport_Output.csv')\n",
    "airport_df.dropna(inplace = True) \n",
    "airport_df.head()"
   ]
  },
  {
   "cell_type": "code",
   "execution_count": null,
   "metadata": {},
   "outputs": [],
   "source": [
    "# Store latitude and longitude in locations\n",
    "locations = airport_df[[\"Lat\", \"Lng\"]]\n",
    "\n",
    "# Fill NaN values and convert to float\n",
    "rating = airport_df[\"Airport Rating\"].astype(float)"
   ]
  },
  {
   "cell_type": "code",
   "execution_count": null,
   "metadata": {},
   "outputs": [],
   "source": [
    "# Plot Heatmap\n",
    "fig = gmaps.figure()\n",
    "\n",
    "# Create heat layer\n",
    "heat_layer = gmaps.heatmap_layer(locations, weights=rating, \n",
    "                                 dissipating=False, max_intensity=10,\n",
    "                                 point_radius=1)\n",
    "\n",
    "\n",
    "# Add layer\n",
    "fig.add_layer(heat_layer)\n",
    "\n",
    "# Display figure\n",
    "fig"
   ]
  },
  {
   "cell_type": "code",
   "execution_count": null,
   "metadata": {},
   "outputs": [],
   "source": [
    "# BONUS\n",
    "# Plost as a Hybrid map\n",
    "fig = gmaps.figure(map_type=\"HYBRID\")\n",
    "\n",
    "# Create heat layer\n",
    "heat_layer = gmaps.heatmap_layer(locations, weights=rating, \n",
    "                                 dissipating=False, max_intensity=10,\n",
    "                                 point_radius=1)\n",
    "\n",
    "fig.add_layer(heat_layer)\n",
    "fig"
   ]
  },
  {
   "cell_type": "code",
   "execution_count": null,
   "metadata": {},
   "outputs": [],
   "source": [
    "# BONUS\n",
    "# Plot as a Terrain map\n",
    "fig = gmaps.figure(map_type=\"TERRAIN\")\n",
    "\n",
    "# Create heat layer\n",
    "heat_layer = gmaps.heatmap_layer(locations, weights=rating, \n",
    "                                 dissipating=False, max_intensity=10,\n",
    "                                 point_radius=1)\n",
    "\n",
    "fig.add_layer(heat_layer)\n",
    "fig"
   ]
  },
  {
   "cell_type": "code",
   "execution_count": null,
   "metadata": {},
   "outputs": [],
   "source": []
  }
 ],
 "metadata": {
  "kernelspec": {
   "display_name": "Python 3",
   "language": "python",
   "name": "python3"
  },
  "language_info": {
   "codemirror_mode": {
    "name": "ipython",
    "version": 3
   },
   "file_extension": ".py",
   "mimetype": "text/x-python",
   "name": "python",
   "nbconvert_exporter": "python",
   "pygments_lexer": "ipython3",
   "version": "3.6.10"
  }
 },
 "nbformat": 4,
 "nbformat_minor": 2
}
